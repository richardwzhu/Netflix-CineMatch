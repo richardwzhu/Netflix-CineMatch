{
 "cells": [
  {
   "cell_type": "markdown",
   "id": "218d5420-6755-4627-89be-5495f4d2c2c6",
   "metadata": {},
   "source": [
    "# FML Capstone Project\n",
    "Richard Zhu, rz2123"
   ]
  },
  {
   "cell_type": "markdown",
   "id": "e0125f80-0fb8-490e-a7a4-11b7dcf1bf4f",
   "metadata": {},
   "source": [
    "## Imports"
   ]
  },
  {
   "cell_type": "code",
   "execution_count": 1,
   "id": "57850cce-23e9-4341-85a2-1a33fcf9ce16",
   "metadata": {},
   "outputs": [],
   "source": [
    "import matplotlib.pyplot as plt\n",
    "import numpy as np\n",
    "import pandas as pd\n",
    "import random\n",
    "import re\n",
    "import seaborn as sns\n",
    "import torch\n",
    "import torch.nn as nn\n",
    "import torch.nn.functional as F\n",
    "import warnings\n",
    "\n",
    "from sklearn.metrics import mean_squared_error\n",
    "from sklearn.preprocessing import OneHotEncoder, StandardScaler\n",
    "from tqdm.notebook import tqdm\n",
    "\n",
    "random.seed(16391561)\n",
    "sns.set()\n",
    "\n",
    "warnings.filterwarnings('ignore')"
   ]
  },
  {
   "cell_type": "markdown",
   "id": "b46025ad-1b3a-4046-bc40-78fd55156d9f",
   "metadata": {},
   "source": [
    "## Data manipulation"
   ]
  },
  {
   "cell_type": "markdown",
   "id": "b4f243fb-ec2f-4a99-ac16-7dcbeeae6a9d",
   "metadata": {},
   "source": [
    "### Data loading"
   ]
  },
  {
   "cell_type": "code",
   "execution_count": 2,
   "id": "2b15effa-44e4-405e-bd69-1083807bc5f5",
   "metadata": {},
   "outputs": [
    {
     "data": {
      "text/html": [
       "<div>\n",
       "<style scoped>\n",
       "    .dataframe tbody tr th:only-of-type {\n",
       "        vertical-align: middle;\n",
       "    }\n",
       "\n",
       "    .dataframe tbody tr th {\n",
       "        vertical-align: top;\n",
       "    }\n",
       "\n",
       "    .dataframe thead th {\n",
       "        text-align: right;\n",
       "    }\n",
       "</style>\n",
       "<table border=\"1\" class=\"dataframe\">\n",
       "  <thead>\n",
       "    <tr style=\"text-align: right;\">\n",
       "      <th></th>\n",
       "      <th>release_date</th>\n",
       "      <th>movie_title</th>\n",
       "    </tr>\n",
       "    <tr>\n",
       "      <th>movie_id</th>\n",
       "      <th></th>\n",
       "      <th></th>\n",
       "    </tr>\n",
       "  </thead>\n",
       "  <tbody>\n",
       "    <tr>\n",
       "      <th>1</th>\n",
       "      <td>2003.0</td>\n",
       "      <td>Dinosaur Planet</td>\n",
       "    </tr>\n",
       "    <tr>\n",
       "      <th>2</th>\n",
       "      <td>2004.0</td>\n",
       "      <td>Isle of Man TT 2004 Review</td>\n",
       "    </tr>\n",
       "    <tr>\n",
       "      <th>3</th>\n",
       "      <td>1997.0</td>\n",
       "      <td>Character</td>\n",
       "    </tr>\n",
       "    <tr>\n",
       "      <th>4</th>\n",
       "      <td>1994.0</td>\n",
       "      <td>Paula Abdul's Get Up &amp; Dance</td>\n",
       "    </tr>\n",
       "    <tr>\n",
       "      <th>5</th>\n",
       "      <td>2004.0</td>\n",
       "      <td>The Rise and Fall of ECW</td>\n",
       "    </tr>\n",
       "    <tr>\n",
       "      <th>...</th>\n",
       "      <td>...</td>\n",
       "      <td>...</td>\n",
       "    </tr>\n",
       "    <tr>\n",
       "      <th>4996</th>\n",
       "      <td>2000.0</td>\n",
       "      <td>Gone in 60 Seconds</td>\n",
       "    </tr>\n",
       "    <tr>\n",
       "      <th>4997</th>\n",
       "      <td>2004.0</td>\n",
       "      <td>Alabama Love Story</td>\n",
       "    </tr>\n",
       "    <tr>\n",
       "      <th>4998</th>\n",
       "      <td>1948.0</td>\n",
       "      <td>Anna Karenina</td>\n",
       "    </tr>\n",
       "    <tr>\n",
       "      <th>4999</th>\n",
       "      <td>2001.0</td>\n",
       "      <td>Lucky Break</td>\n",
       "    </tr>\n",
       "    <tr>\n",
       "      <th>5000</th>\n",
       "      <td>1994.0</td>\n",
       "      <td>Getting Even with Dad</td>\n",
       "    </tr>\n",
       "  </tbody>\n",
       "</table>\n",
       "<p>4998 rows × 2 columns</p>\n",
       "</div>"
      ],
      "text/plain": [
       "          release_date                   movie_title\n",
       "movie_id                                            \n",
       "1               2003.0               Dinosaur Planet\n",
       "2               2004.0    Isle of Man TT 2004 Review\n",
       "3               1997.0                     Character\n",
       "4               1994.0  Paula Abdul's Get Up & Dance\n",
       "5               2004.0      The Rise and Fall of ECW\n",
       "...                ...                           ...\n",
       "4996            2000.0            Gone in 60 Seconds\n",
       "4997            2004.0            Alabama Love Story\n",
       "4998            1948.0                 Anna Karenina\n",
       "4999            2001.0                   Lucky Break\n",
       "5000            1994.0         Getting Even with Dad\n",
       "\n",
       "[4998 rows x 2 columns]"
      ]
     },
     "execution_count": 2,
     "metadata": {},
     "output_type": "execute_result"
    }
   ],
   "source": [
    "movie_titles_df = pd.read_csv(\"./dataSet/movieTitles.csv\", header=None)\n",
    "movie_titles_df.drop(columns=[3, 4], inplace=True)\n",
    "movie_titles_df.dropna(axis=0, how='any', inplace=True)\n",
    "movie_titles_df.columns = [\"movie_id\", \"release_date\", \"movie_title\"]\n",
    "movie_titles_df.set_index(\"movie_id\", inplace=True)\n",
    "movie_titles_df"
   ]
  },
  {
   "cell_type": "code",
   "execution_count": 3,
   "id": "79014b64-0212-4b7a-a85e-485e887d7092",
   "metadata": {
    "tags": []
   },
   "outputs": [
    {
     "data": {
      "application/vnd.jupyter.widget-view+json": {
       "model_id": "23e1ba0a4cd543a0ae568b7d9b1ee98f",
       "version_major": 2,
       "version_minor": 0
      },
      "text/plain": [
       "Strip new line chars:   0%|          | 0/27015225 [00:00<?, ?it/s]"
      ]
     },
     "metadata": {},
     "output_type": "display_data"
    },
    {
     "data": {
      "application/vnd.jupyter.widget-view+json": {
       "model_id": "747bc510f76c4f83bf4ae3d67b911d63",
       "version_major": 2,
       "version_minor": 0
      },
      "text/plain": [
       "Split data by colon:   0%|          | 0/27015225 [00:00<?, ?it/s]"
      ]
     },
     "metadata": {},
     "output_type": "display_data"
    },
    {
     "data": {
      "text/html": [
       "<div>\n",
       "<style scoped>\n",
       "    .dataframe tbody tr th:only-of-type {\n",
       "        vertical-align: middle;\n",
       "    }\n",
       "\n",
       "    .dataframe tbody tr th {\n",
       "        vertical-align: top;\n",
       "    }\n",
       "\n",
       "    .dataframe thead th {\n",
       "        text-align: right;\n",
       "    }\n",
       "</style>\n",
       "<table border=\"1\" class=\"dataframe\">\n",
       "  <thead>\n",
       "    <tr style=\"text-align: right;\">\n",
       "      <th></th>\n",
       "      <th>movie_id</th>\n",
       "      <th>customer_id</th>\n",
       "      <th>rating</th>\n",
       "      <th>rating_date</th>\n",
       "    </tr>\n",
       "  </thead>\n",
       "  <tbody>\n",
       "    <tr>\n",
       "      <th>0</th>\n",
       "      <td>1</td>\n",
       "      <td>1488844</td>\n",
       "      <td>3</td>\n",
       "      <td>2005-09-06</td>\n",
       "    </tr>\n",
       "    <tr>\n",
       "      <th>1</th>\n",
       "      <td>1</td>\n",
       "      <td>822109</td>\n",
       "      <td>5</td>\n",
       "      <td>2005-05-13</td>\n",
       "    </tr>\n",
       "    <tr>\n",
       "      <th>2</th>\n",
       "      <td>1</td>\n",
       "      <td>885013</td>\n",
       "      <td>4</td>\n",
       "      <td>2005-10-19</td>\n",
       "    </tr>\n",
       "    <tr>\n",
       "      <th>3</th>\n",
       "      <td>1</td>\n",
       "      <td>30878</td>\n",
       "      <td>4</td>\n",
       "      <td>2005-12-26</td>\n",
       "    </tr>\n",
       "    <tr>\n",
       "      <th>4</th>\n",
       "      <td>1</td>\n",
       "      <td>823519</td>\n",
       "      <td>3</td>\n",
       "      <td>2004-05-03</td>\n",
       "    </tr>\n",
       "    <tr>\n",
       "      <th>...</th>\n",
       "      <td>...</td>\n",
       "      <td>...</td>\n",
       "      <td>...</td>\n",
       "      <td>...</td>\n",
       "    </tr>\n",
       "    <tr>\n",
       "      <th>27010220</th>\n",
       "      <td>5000</td>\n",
       "      <td>2415316</td>\n",
       "      <td>3</td>\n",
       "      <td>2004-01-28</td>\n",
       "    </tr>\n",
       "    <tr>\n",
       "      <th>27010221</th>\n",
       "      <td>5000</td>\n",
       "      <td>1619362</td>\n",
       "      <td>3</td>\n",
       "      <td>2005-01-12</td>\n",
       "    </tr>\n",
       "    <tr>\n",
       "      <th>27010222</th>\n",
       "      <td>5000</td>\n",
       "      <td>453585</td>\n",
       "      <td>4</td>\n",
       "      <td>2005-03-28</td>\n",
       "    </tr>\n",
       "    <tr>\n",
       "      <th>27010223</th>\n",
       "      <td>5000</td>\n",
       "      <td>477466</td>\n",
       "      <td>3</td>\n",
       "      <td>2005-10-17</td>\n",
       "    </tr>\n",
       "    <tr>\n",
       "      <th>27010224</th>\n",
       "      <td>5000</td>\n",
       "      <td>177123</td>\n",
       "      <td>4</td>\n",
       "      <td>2005-11-17</td>\n",
       "    </tr>\n",
       "  </tbody>\n",
       "</table>\n",
       "<p>27010225 rows × 4 columns</p>\n",
       "</div>"
      ],
      "text/plain": [
       "          movie_id  customer_id  rating rating_date\n",
       "0                1      1488844       3  2005-09-06\n",
       "1                1       822109       5  2005-05-13\n",
       "2                1       885013       4  2005-10-19\n",
       "3                1        30878       4  2005-12-26\n",
       "4                1       823519       3  2004-05-03\n",
       "...            ...          ...     ...         ...\n",
       "27010220      5000      2415316       3  2004-01-28\n",
       "27010221      5000      1619362       3  2005-01-12\n",
       "27010222      5000       453585       4  2005-03-28\n",
       "27010223      5000       477466       3  2005-10-17\n",
       "27010224      5000       177123       4  2005-11-17\n",
       "\n",
       "[27010225 rows x 4 columns]"
      ]
     },
     "execution_count": 3,
     "metadata": {},
     "output_type": "execute_result"
    }
   ],
   "source": [
    "with open(\"./dataSet/data.txt\") as f:\n",
    "    data = f.readlines()\n",
    "    \n",
    "data = [line.strip() for line in tqdm(data, desc=\"Strip new line chars\")]\n",
    "\n",
    "pattern = r\"^\\d+:$\"\n",
    "flat_data = []\n",
    "for line in tqdm(data, desc=\"Split data by colon\"):\n",
    "    if re.match(pattern, line):\n",
    "        curr_movie_id = line.split(\":\")[0]\n",
    "    else:\n",
    "        flat_data.append([curr_movie_id] + line.split(','))\n",
    "        \n",
    "data_df = pd.DataFrame(flat_data, columns=['movie_id', 'customer_id', 'rating', 'rating_date'])\n",
    "data_df['movie_id'] = data_df['movie_id'].astype(int)\n",
    "data_df['customer_id'] = data_df['customer_id'].astype(int)\n",
    "data_df['rating'] = data_df['rating'].astype(int)\n",
    "data_df['rating_date'] = pd.to_datetime(data_df['rating_date'])\n",
    "data_df"
   ]
  },
  {
   "cell_type": "markdown",
   "id": "9599f306-77ed-458a-824a-adf7670b3b98",
   "metadata": {},
   "source": [
    "### Data visualization"
   ]
  },
  {
   "cell_type": "code",
   "execution_count": 4,
   "id": "3b0fc5f9-5e22-49e7-bd44-5a4516644b29",
   "metadata": {},
   "outputs": [
    {
     "data": {
      "image/png": "[encoded data removed]",
      "text/plain": [
       "<Figure size 640x480 with 1 Axes>"
      ]
     },
     "metadata": {},
     "output_type": "display_data"
    }
   ],
   "source": [
    "movie_counts = movie_titles_df.groupby('release_date').size()\n",
    "plt.plot(movie_counts.index, movie_counts.values)\n",
    "plt.xlabel('Release Date')\n",
    "plt.ylabel('Number of Movies Released')\n",
    "plt.title('Movie Releases by Year')\n",
    "plt.grid()\n",
    "plt.show()"
   ]
  },
  {
   "cell_type": "code",
   "execution_count": 5,
   "id": "76db9889-7608-493d-bc48-34dd8ef54c00",
   "metadata": {},
   "outputs": [
    {
     "data": {
      "image/png": "[encoded data removed]",
      "text/plain": [
       "<Figure size 1500x600 with 1 Axes>"
      ]
     },
     "metadata": {},
     "output_type": "display_data"
    }
   ],
   "source": [
    "rating_counts = data_df.groupby('rating')['rating'].agg(['count'])\n",
    "\n",
    "movies_count = len(data_df.movie_id.unique())\n",
    "customers_count = len(data_df.customer_id.unique())\n",
    "ratings_count = len(data_df)\n",
    "\n",
    "ax = rating_counts.plot(kind='barh', legend=False, figsize=(15, 6))\n",
    "plt.title(f\"{movies_count=}, {customers_count=}, {ratings_count=}\")\n",
    "\n",
    "for i in range(1,6):\n",
    "    percentage = rating_counts.iloc[i-1][0] / rating_counts.sum()[0] * 100\n",
    "    ax.text(20000, i-1, f'Rating {i}: {round(percentage, 1)}%', color='white', weight='bold')\n",
    "\n",
    "plt.axis('off')\n",
    "plt.show()"
   ]
  },
  {
   "cell_type": "markdown",
   "id": "21588272-4adf-42ce-b564-84e9f65117cf",
   "metadata": {},
   "source": [
    "### Data cleaning"
   ]
  },
  {
   "cell_type": "code",
   "execution_count": 6,
   "id": "239d1a5b-90c2-4dd8-a92b-fbba25108ce9",
   "metadata": {},
   "outputs": [
    {
     "data": {
      "text/html": [
       "<div>\n",
       "<style scoped>\n",
       "    .dataframe tbody tr th:only-of-type {\n",
       "        vertical-align: middle;\n",
       "    }\n",
       "\n",
       "    .dataframe tbody tr th {\n",
       "        vertical-align: top;\n",
       "    }\n",
       "\n",
       "    .dataframe thead th {\n",
       "        text-align: right;\n",
       "    }\n",
       "</style>\n",
       "<table border=\"1\" class=\"dataframe\">\n",
       "  <thead>\n",
       "    <tr style=\"text-align: right;\">\n",
       "      <th></th>\n",
       "      <th>movie_id</th>\n",
       "      <th>customer_id</th>\n",
       "      <th>rating</th>\n",
       "      <th>release_date</th>\n",
       "      <th>days_since_release</th>\n",
       "    </tr>\n",
       "  </thead>\n",
       "  <tbody>\n",
       "    <tr>\n",
       "      <th>0</th>\n",
       "      <td>-1.776593</td>\n",
       "      <td>0.217883</td>\n",
       "      <td>3</td>\n",
       "      <td>0.694841</td>\n",
       "      <td>-0.623399</td>\n",
       "    </tr>\n",
       "    <tr>\n",
       "      <th>1</th>\n",
       "      <td>-1.776593</td>\n",
       "      <td>-0.654147</td>\n",
       "      <td>5</td>\n",
       "      <td>0.694841</td>\n",
       "      <td>-0.648842</td>\n",
       "    </tr>\n",
       "    <tr>\n",
       "      <th>2</th>\n",
       "      <td>-1.776593</td>\n",
       "      <td>-0.571874</td>\n",
       "      <td>4</td>\n",
       "      <td>0.694841</td>\n",
       "      <td>-0.613968</td>\n",
       "    </tr>\n",
       "    <tr>\n",
       "      <th>3</th>\n",
       "      <td>-1.776593</td>\n",
       "      <td>-1.689006</td>\n",
       "      <td>4</td>\n",
       "      <td>0.694841</td>\n",
       "      <td>-0.599053</td>\n",
       "    </tr>\n",
       "    <tr>\n",
       "      <th>4</th>\n",
       "      <td>-1.776593</td>\n",
       "      <td>-0.652302</td>\n",
       "      <td>3</td>\n",
       "      <td>0.694841</td>\n",
       "      <td>-0.731092</td>\n",
       "    </tr>\n",
       "    <tr>\n",
       "      <th>...</th>\n",
       "      <td>...</td>\n",
       "      <td>...</td>\n",
       "      <td>...</td>\n",
       "      <td>...</td>\n",
       "      <td>...</td>\n",
       "    </tr>\n",
       "    <tr>\n",
       "      <th>27010220</th>\n",
       "      <td>1.671701</td>\n",
       "      <td>1.429626</td>\n",
       "      <td>3</td>\n",
       "      <td>-0.025257</td>\n",
       "      <td>-0.031194</td>\n",
       "    </tr>\n",
       "    <tr>\n",
       "      <th>27010221</th>\n",
       "      <td>1.671701</td>\n",
       "      <td>0.388589</td>\n",
       "      <td>3</td>\n",
       "      <td>-0.025257</td>\n",
       "      <td>0.045573</td>\n",
       "    </tr>\n",
       "    <tr>\n",
       "      <th>27010222</th>\n",
       "      <td>1.671701</td>\n",
       "      <td>-1.136143</td>\n",
       "      <td>4</td>\n",
       "      <td>-0.025257</td>\n",
       "      <td>0.062023</td>\n",
       "    </tr>\n",
       "    <tr>\n",
       "      <th>27010223</th>\n",
       "      <td>1.671701</td>\n",
       "      <td>-1.104909</td>\n",
       "      <td>3</td>\n",
       "      <td>-0.025257</td>\n",
       "      <td>0.106548</td>\n",
       "    </tr>\n",
       "    <tr>\n",
       "      <th>27010224</th>\n",
       "      <td>1.671701</td>\n",
       "      <td>-1.497731</td>\n",
       "      <td>4</td>\n",
       "      <td>-0.025257</td>\n",
       "      <td>0.113348</td>\n",
       "    </tr>\n",
       "  </tbody>\n",
       "</table>\n",
       "<p>27010225 rows × 5 columns</p>\n",
       "</div>"
      ],
      "text/plain": [
       "          movie_id  customer_id  rating  release_date  days_since_release\n",
       "0        -1.776593     0.217883       3      0.694841           -0.623399\n",
       "1        -1.776593    -0.654147       5      0.694841           -0.648842\n",
       "2        -1.776593    -0.571874       4      0.694841           -0.613968\n",
       "3        -1.776593    -1.689006       4      0.694841           -0.599053\n",
       "4        -1.776593    -0.652302       3      0.694841           -0.731092\n",
       "...            ...          ...     ...           ...                 ...\n",
       "27010220  1.671701     1.429626       3     -0.025257           -0.031194\n",
       "27010221  1.671701     0.388589       3     -0.025257            0.045573\n",
       "27010222  1.671701    -1.136143       4     -0.025257            0.062023\n",
       "27010223  1.671701    -1.104909       3     -0.025257            0.106548\n",
       "27010224  1.671701    -1.497731       4     -0.025257            0.113348\n",
       "\n",
       "[27010225 rows x 5 columns]"
      ]
     },
     "execution_count": 6,
     "metadata": {},
     "output_type": "execute_result"
    }
   ],
   "source": [
    "# Merge dfs\n",
    "result_df = data_df.merge(movie_titles_df, on='movie_id', how='left')\n",
    "\n",
    "# Mean imputation for release date\n",
    "result_df['release_date'].fillna(value=result_df['release_date'].mean(), inplace=True)\n",
    "\n",
    "# Add days since release\n",
    "result_df['days_since_release'] = (result_df['rating_date'] - pd.to_datetime(result_df['release_date'], format='%Y')).dt.days\n",
    "\n",
    "# Remove rating date and movie title\n",
    "result_df.drop(['rating_date', 'movie_title'], axis=1, inplace=True)\n",
    "\n",
    "# Standardize movie_id and customer_id\n",
    "cols_to_scale = ['movie_id', 'customer_id', 'release_date', 'days_since_release']\n",
    "scalar = StandardScaler()\n",
    "scaled_cols = scalar.fit_transform(result_df[cols_to_scale])\n",
    "result_df[cols_to_scale] = scaled_cols\n",
    "\n",
    "result_df"
   ]
  },
  {
   "cell_type": "markdown",
   "id": "84e7a037-d9b4-4e01-a884-856683dee54a",
   "metadata": {},
   "source": [
    "### Data splitting"
   ]
  },
  {
   "cell_type": "code",
   "execution_count": 7,
   "id": "001ed749-ee3b-4837-bcd2-350a24df0064",
   "metadata": {},
   "outputs": [],
   "source": [
    "test_idxs = []\n",
    "for idx, (movie_id, tdf) in enumerate(result_df.groupby(\"movie_id\")):\n",
    "    test_idxs.append(random.randint(tdf.index.min(), tdf.index.max()))"
   ]
  },
  {
   "cell_type": "code",
   "execution_count": 8,
   "id": "3b780eb9-21fa-4fc7-80d0-0ab9cee9e991",
   "metadata": {},
   "outputs": [
    {
     "name": "stdout",
     "output_type": "stream",
     "text": [
      "(27005225, 4) (27005225,)\n",
      "(5000, 4) (5000,)\n"
     ]
    }
   ],
   "source": [
    "train_df = result_df.drop(test_idxs, axis=0)\n",
    "test_df = result_df[result_df.index.isin(test_idxs)]\n",
    "X_train, y_train = train_df.drop(['rating'], axis=1).values, train_df.rating.values\n",
    "X_test, y_test = test_df.drop(['rating'], axis=1).values, test_df.rating.values\n",
    "\n",
    "print(X_train.shape, y_train.shape)\n",
    "print(X_test.shape, y_test.shape)"
   ]
  },
  {
   "cell_type": "code",
   "execution_count": 9,
   "id": "24cfaf14-bbee-4f4a-b08a-35a2239b1c5d",
   "metadata": {},
   "outputs": [
    {
     "name": "stdout",
     "output_type": "stream",
     "text": [
      "(27005225, 5) (5000, 5)\n"
     ]
    }
   ],
   "source": [
    "encoder = OneHotEncoder(sparse=False)\n",
    "y_train = encoder.fit_transform(y_train.reshape(-1, 1))\n",
    "y_test = encoder.fit_transform(y_test.reshape(-1, 1))\n",
    "\n",
    "print(y_train.shape, y_test.shape)"
   ]
  },
  {
   "cell_type": "markdown",
   "id": "aa4151b3-d03d-47d7-8db7-aa37525dfa16",
   "metadata": {},
   "source": [
    "### Creating data loaders"
   ]
  },
  {
   "cell_type": "code",
   "execution_count": 10,
   "id": "5e6df84f-7ad8-4a42-a828-aa345a236654",
   "metadata": {},
   "outputs": [],
   "source": [
    "class MovieDataset(torch.utils.data.Dataset):\n",
    "    def __init__(self, X, y):\n",
    "        self.X = torch.tensor(X, dtype=torch.float32)\n",
    "        self.y = torch.tensor(y, dtype=torch.long)\n",
    "\n",
    "    def __getitem__(self, idx):\n",
    "        return self.X[idx], self.y[idx]\n",
    "\n",
    "    def __len__(self):\n",
    "        return len(self.X)"
   ]
  },
  {
   "cell_type": "code",
   "execution_count": 11,
   "id": "fb81acc8-ce1a-49b4-b8df-72c0b32b3b62",
   "metadata": {},
   "outputs": [],
   "source": [
    "batch_size = 64\n",
    "\n",
    "train_dataset = MovieDataset(X_train, y_train)\n",
    "valid_dataset = MovieDataset(X_test, y_test)\n",
    "\n",
    "train_loader = torch.utils.data.DataLoader(train_dataset, batch_size=batch_size, shuffle=True)\n",
    "valid_loader = torch.utils.data.DataLoader(valid_dataset, batch_size=batch_size, shuffle=False)"
   ]
  },
  {
   "cell_type": "markdown",
   "id": "32e72ef1-ed4c-485c-9e0a-327544001df0",
   "metadata": {},
   "source": [
    "## Models"
   ]
  },
  {
   "cell_type": "markdown",
   "id": "71a4ae9f-8704-48d1-aca2-8e99a5a29c00",
   "metadata": {},
   "source": [
    "### RNN"
   ]
  },
  {
   "cell_type": "code",
   "execution_count": 13,
   "id": "1b0c67f8-6a47-4ecd-bb42-40baf50ea13b",
   "metadata": {},
   "outputs": [
    {
     "name": "stdout",
     "output_type": "stream",
     "text": [
      "Epoch: 1\n"
     ]
    },
    {
     "data": {
      "application/vnd.jupyter.widget-view+json": {
       "model_id": "5306d6a4181d4cdb9eeedfeec61fa365",
       "version_major": 2,
       "version_minor": 0
      },
      "text/plain": [
       "  0%|          | 0/421957 [00:00<?, ?it/s]"
      ]
     },
     "metadata": {},
     "output_type": "display_data"
    },
    {
     "data": {
      "application/vnd.jupyter.widget-view+json": {
       "model_id": "93208276b4224c429b2164e6a55519a4",
       "version_major": 2,
       "version_minor": 0
      },
      "text/plain": [
       "  0%|          | 0/79 [00:00<?, ?it/s]"
      ]
     },
     "metadata": {},
     "output_type": "display_data"
    },
    {
     "name": "stdout",
     "output_type": "stream",
     "text": [
      "train_loss=0.1500975340604782, valid_loss=0.15014967322349548, train_rmse=0.3759851567216993, valid_rmse=0.3638244623535146\n",
      "Epoch: 2\n"
     ]
    },
    {
     "data": {
      "application/vnd.jupyter.widget-view+json": {
       "model_id": "e8453c809385481cb9e58ffe7ce48078",
       "version_major": 2,
       "version_minor": 0
      },
      "text/plain": [
       "  0%|          | 0/421957 [00:00<?, ?it/s]"
      ]
     },
     "metadata": {},
     "output_type": "display_data"
    },
    {
     "data": {
      "application/vnd.jupyter.widget-view+json": {
       "model_id": "b6cad6b55a834c5ca9d679b6bf5f5011",
       "version_major": 2,
       "version_minor": 0
      },
      "text/plain": [
       "  0%|          | 0/79 [00:00<?, ?it/s]"
      ]
     },
     "metadata": {},
     "output_type": "display_data"
    },
    {
     "name": "stdout",
     "output_type": "stream",
     "text": [
      "train_loss=0.14017726480960846, valid_loss=0.15105409920215607, train_rmse=0.33859187608682423, valid_rmse=0.3659243840011466\n",
      "Epoch: 3\n"
     ]
    },
    {
     "data": {
      "application/vnd.jupyter.widget-view+json": {
       "model_id": "77cb26b011cc49ed8b7f5ecf7d27d3d4",
       "version_major": 2,
       "version_minor": 0
      },
      "text/plain": [
       "  0%|          | 0/421957 [00:00<?, ?it/s]"
      ]
     },
     "metadata": {},
     "output_type": "display_data"
    },
    {
     "data": {
      "application/vnd.jupyter.widget-view+json": {
       "model_id": "460135d4621e4b848094ab559ac874d5",
       "version_major": 2,
       "version_minor": 0
      },
      "text/plain": [
       "  0%|          | 0/79 [00:00<?, ?it/s]"
      ]
     },
     "metadata": {},
     "output_type": "display_data"
    },
    {
     "name": "stdout",
     "output_type": "stream",
     "text": [
      "train_loss=0.15614567697048187, valid_loss=0.1510317027568817, train_rmse=0.39033076218321994, valid_rmse=0.365462104700332\n"
     ]
    }
   ],
   "source": [
    "epochs = 3\n",
    "learning_rate = 0.001\n",
    "cost = nn.MSELoss()\n",
    "\n",
    "input_size = len(X_train[0])\n",
    "hidden_size = 16\n",
    "output_size = 5\n",
    "\n",
    "device = torch.device(\"cpu:0\")\n",
    "\n",
    "def train_model(model, train_loader, cost, optimizer, valid_loader, device):\n",
    "    model = model.to(device)\n",
    "    for epoch in range(epochs):\n",
    "        print(f\"Epoch: {epoch + 1}\")\n",
    "        model.train()\n",
    "        train_loss, train_rmse = train_epoch(model, train_loader, cost, optimizer, device)\n",
    "\n",
    "        model.eval()\n",
    "        with torch.no_grad():\n",
    "            valid_loss, valid_rmse = valid_epoch(model, valid_loader, device)\n",
    "            \n",
    "        print(f\"{train_loss=}, {valid_loss=}, {train_rmse=}, {valid_rmse=}\")\n",
    "        \n",
    "def train_epoch(model, train_loader, cost, optimizer, device):\n",
    "    tqdm_object = tqdm(train_loader, total=len(train_loader))\n",
    "    for i, (inputs, labels) in enumerate(tqdm_object):\n",
    "        optimizer.zero_grad()\n",
    "        outputs = model(inputs.to(device))\n",
    "        loss = cost(outputs, labels.float().to(device))\n",
    "        loss.requires_grad_()\n",
    "        loss.backward()\n",
    "        optimizer.step()\n",
    "        \n",
    "        rmse = mean_squared_error(labels, outputs.detach().numpy(), squared=False)\n",
    "        if i % 1000 == 0:\n",
    "            tqdm_object.set_postfix(train_loss=loss.detach().numpy())\n",
    "    return float(loss.detach().numpy()), rmse\n",
    "\n",
    "def valid_epoch(model, valid_loader, device):\n",
    "    tqdm_object = tqdm(valid_loader, total=len(valid_loader))\n",
    "    for inputs, labels in tqdm_object:\n",
    "        outputs = model(inputs.to(device))\n",
    "        loss = cost(outputs, labels.float())\n",
    "        \n",
    "        rmse = mean_squared_error(labels, outputs.detach().numpy(), squared=False)\n",
    "        tqdm_object.set_postfix(test_loss=loss.numpy())\n",
    "    return float(loss.numpy()), rmse\n",
    "\n",
    "class RNN(nn.Module):\n",
    "    def __init__(self, input_size, hidden_size, output_size, num_layers, dropout):\n",
    "        super(RNN, self).__init__()\n",
    "        self.hidden_size = hidden_size\n",
    "        self.num_layers = num_layers\n",
    "        self.rnn = nn.RNN(input_size, hidden_size, num_layers, batch_first=True, dropout=dropout)\n",
    "        self.fc = nn.Linear(hidden_size, output_size)\n",
    "        \n",
    "    def forward(self, x):\n",
    "        h0 = torch.zeros(self.num_layers, x.size(0), self.hidden_size)\n",
    "        x, _ = self.rnn(x.unsqueeze(1), h0)\n",
    "        x = self.fc(x[:, -1, :])\n",
    "        x = torch.tanh(x)\n",
    "        return x\n",
    "    \n",
    "rnn = RNN(input_size, hidden_size, output_size, 1, 0.2)\n",
    "optimizer = torch.optim.Adam(rnn.parameters(), lr=learning_rate)\n",
    "train_model(rnn, train_loader, cost, optimizer, valid_loader, device)"
   ]
  }
 ],
 "metadata": {
  "kernelspec": {
   "display_name": "Python 3 (ipykernel)",
   "language": "python",
   "name": "python3"
  },
  "language_info": {
   "codemirror_mode": {
    "name": "ipython",
    "version": 3
   },
   "file_extension": ".py",
   "mimetype": "text/x-python",
   "name": "python",
   "nbconvert_exporter": "python",
   "pygments_lexer": "ipython3",
   "version": "3.9.13"
  }
 },
 "nbformat": 4,
 "nbformat_minor": 5
}
